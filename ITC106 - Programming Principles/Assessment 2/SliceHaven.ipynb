{
 "cells": [
  {
   "cell_type": "code",
   "execution_count": 23,
   "metadata": {},
   "outputs": [
    {
     "name": "stdout",
     "output_type": "stream",
     "text": [
      "Welcome to Slice Haven!\n",
      "Here are the available options:\n",
      "1. Margherita\n",
      "2. Vegetarian\n",
      "3. Meat Lovers\n",
      "\n",
      "Size:\n",
      "Personal\n",
      "Medium\n",
      "Family\n"
     ]
    }
   ],
   "source": [
    "#Funcion allows user to customize their pizza option and view relevant information\n",
    "def order_pizza():\n",
    "\n",
    "    #Defines the ratio titles\n",
    "    ratios = [\"Cheese\", \"Sauce\", \"Toppings\"]\n",
    "    #Defines the ingredient ratios of the pizza types\n",
    "    margherita = [50, 30, 20]\n",
    "    vegetarian = [40, 35, 25]\n",
    "    meat = [45, 30, 25]\n",
    "\n",
    "    #Defines the price for pizza sizes Personal/Medium/Family\n",
    "    price = [8, 12, 16]\n",
    "\n",
    "    #Prints instructions and input options for user\n",
    "    print(\"Welcome to Slice Haven!\")\n",
    "    print(\"Here are the available options:\")\n",
    "    print(\"1. Margherita\")\n",
    "    print(\"2. Vegetarian\")\n",
    "    print(\"3. Meat Lovers\")\n",
    "    print(\"\\nSize:\")\n",
    "    print(\"Personal\")\n",
    "    print(\"Medium\")\n",
    "    print(\"Family\")\n",
    "    pizza_type = input(\"Enter the type of pizza you want: \")\n",
    "    size = input(\"Enter the size of pizza (Personal/Medium/Family): \")\n",
    "\n",
    "    #Prints start of order\n",
    "    print(\"\\nYour order summary:\")\n",
    "    print(f\"Type: {pizza_type}, Size: {size}\")\n",
    "\n",
    "    #Prints each ingredient ratio for selected pizza type\n",
    "    print(\"Ingredient Ratios:\")\n",
    "    for i in range(3):\n",
    "        if pizza_type == \"Margherita\":\n",
    "            print(f\"\\t{ratios[i]}: {margherita[i]}%\")\n",
    "        elif pizza_type == \"Vegetarian\":\n",
    "            print(f\"\\t{ratios[i]}: {vegetarian[i]}%\")\n",
    "        elif pizza_type == \"Meat Lovers\":\n",
    "            print(f\"\\t{ratios[i]}: {meat[i]}%\")\n",
    "        else:\n",
    "            #Returns error comment if incorrect type entered\n",
    "            print(\"Invalid Pizza Type Entered\")\n",
    "\n",
    "    #Prints the cost of the pizza based on size selected\n",
    "    if size == \"Personal\":\n",
    "        print(f\"Total Cost: ${price[0]}\")\n",
    "    elif size == \"Medium\":\n",
    "        print(f\"Total Cost: ${price[1]}\")\n",
    "    elif size == \"Family\":\n",
    "        print(f\"Total Cost: ${price[2]}\")\n",
    "    else:\n",
    "        #Returns error comment if incorrect size entered\n",
    "        print(\"Invalid Pizza Size Entered\")\n",
    "\n",
    "#Runs the function to order pizza\n",
    "order_pizza()\n",
    "\n",
    "\n"
   ]
  }
 ],
 "metadata": {
  "interpreter": {
   "hash": "1b4c0b44b896cff81045c886810a66a58eccddc44fdc243a94334eebc140db34"
  },
  "kernelspec": {
   "display_name": "Python 3.7.11 64-bit ('myenv': conda)",
   "name": "python3"
  },
  "language_info": {
   "codemirror_mode": {
    "name": "ipython",
    "version": 3
   },
   "file_extension": ".py",
   "mimetype": "text/x-python",
   "name": "python",
   "nbconvert_exporter": "python",
   "pygments_lexer": "ipython3",
   "version": "3.7.9"
  },
  "orig_nbformat": 4
 },
 "nbformat": 4,
 "nbformat_minor": 2
}
